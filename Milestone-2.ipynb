{
 "cells": [
  {
   "cell_type": "markdown",
   "id": "5bef4ca0-4262-405f-b291-c3c353548bc5",
   "metadata": {},
   "source": [
    "**Importing dataset and necessary libraries**"
   ]
  },
  {
   "cell_type": "code",
   "execution_count": 3,
   "id": "010ec932-70d0-4159-b1cf-1a0a9967e40e",
   "metadata": {},
   "outputs": [],
   "source": [
    "import pandas as pd"
   ]
  },
  {
   "cell_type": "code",
   "execution_count": 4,
   "id": "065367ac-842b-4d36-b546-8ba689457a98",
   "metadata": {},
   "outputs": [],
   "source": [
    "data=pd.read_csv(\"F:\\Downloads\\Retrieved_File.csv\")"
   ]
  },
  {
   "cell_type": "code",
   "execution_count": 5,
   "id": "5f71d47e-d638-4cbc-99a9-3bcd2c87c2cc",
   "metadata": {},
   "outputs": [
    {
     "data": {
      "text/html": [
       "<div>\n",
       "<style scoped>\n",
       "    .dataframe tbody tr th:only-of-type {\n",
       "        vertical-align: middle;\n",
       "    }\n",
       "\n",
       "    .dataframe tbody tr th {\n",
       "        vertical-align: top;\n",
       "    }\n",
       "\n",
       "    .dataframe thead th {\n",
       "        text-align: right;\n",
       "    }\n",
       "</style>\n",
       "<table border=\"1\" class=\"dataframe\">\n",
       "  <thead>\n",
       "    <tr style=\"text-align: right;\">\n",
       "      <th></th>\n",
       "      <th>step</th>\n",
       "      <th>type</th>\n",
       "      <th>amount</th>\n",
       "      <th>oldbalanceOrg</th>\n",
       "      <th>newbalanceOrig</th>\n",
       "      <th>oldbalanceDest</th>\n",
       "      <th>newbalanceDest</th>\n",
       "      <th>isFraud</th>\n",
       "    </tr>\n",
       "  </thead>\n",
       "  <tbody>\n",
       "    <tr>\n",
       "      <th>0</th>\n",
       "      <td>359</td>\n",
       "      <td>1</td>\n",
       "      <td>105733.45</td>\n",
       "      <td>105733.45</td>\n",
       "      <td>0.0</td>\n",
       "      <td>934471.58</td>\n",
       "      <td>1040205.03</td>\n",
       "      <td>1</td>\n",
       "    </tr>\n",
       "    <tr>\n",
       "      <th>1</th>\n",
       "      <td>625</td>\n",
       "      <td>1</td>\n",
       "      <td>249749.05</td>\n",
       "      <td>249749.05</td>\n",
       "      <td>0.0</td>\n",
       "      <td>0.00</td>\n",
       "      <td>249749.05</td>\n",
       "      <td>1</td>\n",
       "    </tr>\n",
       "    <tr>\n",
       "      <th>2</th>\n",
       "      <td>11</td>\n",
       "      <td>4</td>\n",
       "      <td>12461.00</td>\n",
       "      <td>12461.00</td>\n",
       "      <td>0.0</td>\n",
       "      <td>0.00</td>\n",
       "      <td>0.00</td>\n",
       "      <td>1</td>\n",
       "    </tr>\n",
       "    <tr>\n",
       "      <th>3</th>\n",
       "      <td>462</td>\n",
       "      <td>4</td>\n",
       "      <td>67921.66</td>\n",
       "      <td>67921.66</td>\n",
       "      <td>0.0</td>\n",
       "      <td>0.00</td>\n",
       "      <td>0.00</td>\n",
       "      <td>1</td>\n",
       "    </tr>\n",
       "    <tr>\n",
       "      <th>4</th>\n",
       "      <td>93</td>\n",
       "      <td>1</td>\n",
       "      <td>269545.63</td>\n",
       "      <td>269545.63</td>\n",
       "      <td>0.0</td>\n",
       "      <td>905690.55</td>\n",
       "      <td>1175236.17</td>\n",
       "      <td>1</td>\n",
       "    </tr>\n",
       "  </tbody>\n",
       "</table>\n",
       "</div>"
      ],
      "text/plain": [
       "   step  type     amount  oldbalanceOrg  newbalanceOrig  oldbalanceDest  \\\n",
       "0   359     1  105733.45      105733.45             0.0       934471.58   \n",
       "1   625     1  249749.05      249749.05             0.0            0.00   \n",
       "2    11     4   12461.00       12461.00             0.0            0.00   \n",
       "3   462     4   67921.66       67921.66             0.0            0.00   \n",
       "4    93     1  269545.63      269545.63             0.0       905690.55   \n",
       "\n",
       "   newbalanceDest  isFraud  \n",
       "0      1040205.03        1  \n",
       "1       249749.05        1  \n",
       "2            0.00        1  \n",
       "3            0.00        1  \n",
       "4      1175236.17        1  "
      ]
     },
     "execution_count": 5,
     "metadata": {},
     "output_type": "execute_result"
    }
   ],
   "source": [
    "data.head()"
   ]
  },
  {
   "cell_type": "code",
   "execution_count": 6,
   "id": "d1c079a5-8ca8-461d-b273-4db2b84effc0",
   "metadata": {},
   "outputs": [
    {
     "name": "stdout",
     "output_type": "stream",
     "text": [
      "Size of dataset:  (16426, 8)\n"
     ]
    }
   ],
   "source": [
    "print(\"Size of dataset: \", data.shape)"
   ]
  },
  {
   "cell_type": "markdown",
   "id": "49d535bd-85f8-4886-86bd-38405a2941ef",
   "metadata": {},
   "source": [
    "**Checking for Missing Values**"
   ]
  },
  {
   "cell_type": "code",
   "execution_count": 7,
   "id": "bf45982d-0f64-4780-8c8a-23f20b74cd0b",
   "metadata": {},
   "outputs": [
    {
     "name": "stdout",
     "output_type": "stream",
     "text": [
      "step              0\n",
      "type              0\n",
      "amount            0\n",
      "oldbalanceOrg     0\n",
      "newbalanceOrig    0\n",
      "oldbalanceDest    0\n",
      "newbalanceDest    0\n",
      "isFraud           0\n",
      "dtype: int64\n"
     ]
    }
   ],
   "source": [
    "missing_values = data.isnull().sum()\n",
    "print(missing_values)"
   ]
  },
  {
   "cell_type": "code",
   "execution_count": 8,
   "id": "01e1fa17-a612-417e-8499-9c5c5a5f0655",
   "metadata": {},
   "outputs": [
    {
     "name": "stdout",
     "output_type": "stream",
     "text": [
      "\n",
      "Any missing values in DataFrame?: False\n"
     ]
    }
   ],
   "source": [
    "has_missing = data.isnull().values.any()\n",
    "print(\"\\nAny missing values in DataFrame?:\", has_missing)"
   ]
  },
  {
   "cell_type": "markdown",
   "id": "13a64cf0-9ca6-4af7-8675-aeb6cde246bc",
   "metadata": {},
   "source": [
    "**Filling missing numerical values with mean**"
   ]
  },
  {
   "cell_type": "code",
   "execution_count": 9,
   "id": "1ff98ffc-3cbd-4916-bd16-126b4d97d26c",
   "metadata": {},
   "outputs": [],
   "source": [
    "numerical_columns = data.select_dtypes(include=['float64', 'int64']).columns\n",
    "data[numerical_columns] = data[numerical_columns].apply(lambda x: x.fillna(x.mean()))"
   ]
  },
  {
   "cell_type": "markdown",
   "id": "d9bd3241-a151-43f6-89cd-c78fca376b13",
   "metadata": {},
   "source": [
    "**Normalizing Numerical features using StandardScalar**"
   ]
  },
  {
   "cell_type": "code",
   "execution_count": 10,
   "id": "8a4f8ede-be66-4940-8f09-b7dc5c38676b",
   "metadata": {},
   "outputs": [],
   "source": [
    "from sklearn.preprocessing import StandardScaler\n",
    "# Select only the numerical columns for normalization i.e, all the coloumns with float and int types.\n",
    "numerical_columns = data.select_dtypes(include=['float64', 'int64']).columns\n",
    "\n",
    "# Initialize the StandardScaler\n",
    "scaler = StandardScaler()\n",
    "\n",
    "# Apply the StandardScaler to the numerical columns  using fit_transform\n",
    "data[numerical_columns] = scaler.fit_transform(data[numerical_columns])"
   ]
  },
  {
   "cell_type": "code",
   "execution_count": 11,
   "id": "13b8adef-0571-42a4-a06d-a2dd9df0d318",
   "metadata": {},
   "outputs": [
    {
     "data": {
      "text/html": [
       "<div>\n",
       "<style scoped>\n",
       "    .dataframe tbody tr th:only-of-type {\n",
       "        vertical-align: middle;\n",
       "    }\n",
       "\n",
       "    .dataframe tbody tr th {\n",
       "        vertical-align: top;\n",
       "    }\n",
       "\n",
       "    .dataframe thead th {\n",
       "        text-align: right;\n",
       "    }\n",
       "</style>\n",
       "<table border=\"1\" class=\"dataframe\">\n",
       "  <thead>\n",
       "    <tr style=\"text-align: right;\">\n",
       "      <th></th>\n",
       "      <th>step</th>\n",
       "      <th>type</th>\n",
       "      <th>amount</th>\n",
       "      <th>oldbalanceOrg</th>\n",
       "      <th>newbalanceOrig</th>\n",
       "      <th>oldbalanceDest</th>\n",
       "      <th>newbalanceDest</th>\n",
       "      <th>isFraud</th>\n",
       "    </tr>\n",
       "  </thead>\n",
       "  <tbody>\n",
       "    <tr>\n",
       "      <th>0</th>\n",
       "      <td>0.276483</td>\n",
       "      <td>-0.748453</td>\n",
       "      <td>-0.386318</td>\n",
       "      <td>-0.347741</td>\n",
       "      <td>-0.20833</td>\n",
       "      <td>0.032779</td>\n",
       "      <td>-0.060909</td>\n",
       "      <td>1.0</td>\n",
       "    </tr>\n",
       "    <tr>\n",
       "      <th>1</th>\n",
       "      <td>1.651365</td>\n",
       "      <td>-0.748453</td>\n",
       "      <td>-0.309358</td>\n",
       "      <td>-0.303809</td>\n",
       "      <td>-0.20833</td>\n",
       "      <td>-0.256064</td>\n",
       "      <td>-0.272165</td>\n",
       "      <td>1.0</td>\n",
       "    </tr>\n",
       "    <tr>\n",
       "      <th>2</th>\n",
       "      <td>-1.522234</td>\n",
       "      <td>1.278603</td>\n",
       "      <td>-0.436161</td>\n",
       "      <td>-0.376194</td>\n",
       "      <td>-0.20833</td>\n",
       "      <td>-0.256064</td>\n",
       "      <td>-0.338913</td>\n",
       "      <td>1.0</td>\n",
       "    </tr>\n",
       "    <tr>\n",
       "      <th>3</th>\n",
       "      <td>0.808862</td>\n",
       "      <td>1.278603</td>\n",
       "      <td>-0.406524</td>\n",
       "      <td>-0.359276</td>\n",
       "      <td>-0.20833</td>\n",
       "      <td>-0.256064</td>\n",
       "      <td>-0.338913</td>\n",
       "      <td>1.0</td>\n",
       "    </tr>\n",
       "    <tr>\n",
       "      <th>4</th>\n",
       "      <td>-1.098398</td>\n",
       "      <td>-0.748453</td>\n",
       "      <td>-0.298779</td>\n",
       "      <td>-0.297770</td>\n",
       "      <td>-0.20833</td>\n",
       "      <td>0.023883</td>\n",
       "      <td>-0.024821</td>\n",
       "      <td>1.0</td>\n",
       "    </tr>\n",
       "  </tbody>\n",
       "</table>\n",
       "</div>"
      ],
      "text/plain": [
       "       step      type    amount  oldbalanceOrg  newbalanceOrig  \\\n",
       "0  0.276483 -0.748453 -0.386318      -0.347741        -0.20833   \n",
       "1  1.651365 -0.748453 -0.309358      -0.303809        -0.20833   \n",
       "2 -1.522234  1.278603 -0.436161      -0.376194        -0.20833   \n",
       "3  0.808862  1.278603 -0.406524      -0.359276        -0.20833   \n",
       "4 -1.098398 -0.748453 -0.298779      -0.297770        -0.20833   \n",
       "\n",
       "   oldbalanceDest  newbalanceDest  isFraud  \n",
       "0        0.032779       -0.060909      1.0  \n",
       "1       -0.256064       -0.272165      1.0  \n",
       "2       -0.256064       -0.338913      1.0  \n",
       "3       -0.256064       -0.338913      1.0  \n",
       "4        0.023883       -0.024821      1.0  "
      ]
     },
     "execution_count": 11,
     "metadata": {},
     "output_type": "execute_result"
    }
   ],
   "source": [
    "data.head()"
   ]
  },
  {
   "cell_type": "code",
   "execution_count": 12,
   "id": "9cf69812-d195-4b4c-b817-8d2356b8dce4",
   "metadata": {},
   "outputs": [
    {
     "data": {
      "text/html": [
       "<div>\n",
       "<style scoped>\n",
       "    .dataframe tbody tr th:only-of-type {\n",
       "        vertical-align: middle;\n",
       "    }\n",
       "\n",
       "    .dataframe tbody tr th {\n",
       "        vertical-align: top;\n",
       "    }\n",
       "\n",
       "    .dataframe thead th {\n",
       "        text-align: right;\n",
       "    }\n",
       "</style>\n",
       "<table border=\"1\" class=\"dataframe\">\n",
       "  <thead>\n",
       "    <tr style=\"text-align: right;\">\n",
       "      <th></th>\n",
       "      <th>step</th>\n",
       "      <th>type</th>\n",
       "      <th>amount</th>\n",
       "      <th>oldbalanceOrg</th>\n",
       "      <th>newbalanceOrig</th>\n",
       "      <th>oldbalanceDest</th>\n",
       "      <th>newbalanceDest</th>\n",
       "      <th>isFraud</th>\n",
       "    </tr>\n",
       "  </thead>\n",
       "  <tbody>\n",
       "    <tr>\n",
       "      <th>0</th>\n",
       "      <td>0.276483</td>\n",
       "      <td>-0.748453</td>\n",
       "      <td>-0.386318</td>\n",
       "      <td>-0.347741</td>\n",
       "      <td>-0.20833</td>\n",
       "      <td>0.032779</td>\n",
       "      <td>-0.060909</td>\n",
       "      <td>1.0</td>\n",
       "    </tr>\n",
       "    <tr>\n",
       "      <th>1</th>\n",
       "      <td>1.651365</td>\n",
       "      <td>-0.748453</td>\n",
       "      <td>-0.309358</td>\n",
       "      <td>-0.303809</td>\n",
       "      <td>-0.20833</td>\n",
       "      <td>-0.256064</td>\n",
       "      <td>-0.272165</td>\n",
       "      <td>1.0</td>\n",
       "    </tr>\n",
       "    <tr>\n",
       "      <th>2</th>\n",
       "      <td>-1.522234</td>\n",
       "      <td>1.278603</td>\n",
       "      <td>-0.436161</td>\n",
       "      <td>-0.376194</td>\n",
       "      <td>-0.20833</td>\n",
       "      <td>-0.256064</td>\n",
       "      <td>-0.338913</td>\n",
       "      <td>1.0</td>\n",
       "    </tr>\n",
       "    <tr>\n",
       "      <th>3</th>\n",
       "      <td>0.808862</td>\n",
       "      <td>1.278603</td>\n",
       "      <td>-0.406524</td>\n",
       "      <td>-0.359276</td>\n",
       "      <td>-0.20833</td>\n",
       "      <td>-0.256064</td>\n",
       "      <td>-0.338913</td>\n",
       "      <td>1.0</td>\n",
       "    </tr>\n",
       "    <tr>\n",
       "      <th>4</th>\n",
       "      <td>-1.098398</td>\n",
       "      <td>-0.748453</td>\n",
       "      <td>-0.298779</td>\n",
       "      <td>-0.297770</td>\n",
       "      <td>-0.20833</td>\n",
       "      <td>0.023883</td>\n",
       "      <td>-0.024821</td>\n",
       "      <td>1.0</td>\n",
       "    </tr>\n",
       "    <tr>\n",
       "      <th>5</th>\n",
       "      <td>1.351579</td>\n",
       "      <td>-0.748453</td>\n",
       "      <td>-0.325135</td>\n",
       "      <td>-0.379995</td>\n",
       "      <td>-0.20833</td>\n",
       "      <td>0.193456</td>\n",
       "      <td>0.108618</td>\n",
       "      <td>-1.0</td>\n",
       "    </tr>\n",
       "    <tr>\n",
       "      <th>6</th>\n",
       "      <td>0.462558</td>\n",
       "      <td>0.602917</td>\n",
       "      <td>-0.429339</td>\n",
       "      <td>-0.379995</td>\n",
       "      <td>-0.20833</td>\n",
       "      <td>-0.256064</td>\n",
       "      <td>-0.338913</td>\n",
       "      <td>-1.0</td>\n",
       "    </tr>\n",
       "    <tr>\n",
       "      <th>7</th>\n",
       "      <td>1.672040</td>\n",
       "      <td>-0.748453</td>\n",
       "      <td>-0.441939</td>\n",
       "      <td>-0.379492</td>\n",
       "      <td>-0.20833</td>\n",
       "      <td>-0.256064</td>\n",
       "      <td>-0.338472</td>\n",
       "      <td>1.0</td>\n",
       "    </tr>\n",
       "    <tr>\n",
       "      <th>8</th>\n",
       "      <td>1.336073</td>\n",
       "      <td>1.278603</td>\n",
       "      <td>-0.426658</td>\n",
       "      <td>-0.370769</td>\n",
       "      <td>-0.20833</td>\n",
       "      <td>-0.256064</td>\n",
       "      <td>-0.338913</td>\n",
       "      <td>1.0</td>\n",
       "    </tr>\n",
       "    <tr>\n",
       "      <th>9</th>\n",
       "      <td>-0.860637</td>\n",
       "      <td>-0.748453</td>\n",
       "      <td>-0.208900</td>\n",
       "      <td>-0.379995</td>\n",
       "      <td>-0.20833</td>\n",
       "      <td>0.540864</td>\n",
       "      <td>0.467134</td>\n",
       "      <td>-1.0</td>\n",
       "    </tr>\n",
       "  </tbody>\n",
       "</table>\n",
       "</div>"
      ],
      "text/plain": [
       "       step      type    amount  oldbalanceOrg  newbalanceOrig  \\\n",
       "0  0.276483 -0.748453 -0.386318      -0.347741        -0.20833   \n",
       "1  1.651365 -0.748453 -0.309358      -0.303809        -0.20833   \n",
       "2 -1.522234  1.278603 -0.436161      -0.376194        -0.20833   \n",
       "3  0.808862  1.278603 -0.406524      -0.359276        -0.20833   \n",
       "4 -1.098398 -0.748453 -0.298779      -0.297770        -0.20833   \n",
       "5  1.351579 -0.748453 -0.325135      -0.379995        -0.20833   \n",
       "6  0.462558  0.602917 -0.429339      -0.379995        -0.20833   \n",
       "7  1.672040 -0.748453 -0.441939      -0.379492        -0.20833   \n",
       "8  1.336073  1.278603 -0.426658      -0.370769        -0.20833   \n",
       "9 -0.860637 -0.748453 -0.208900      -0.379995        -0.20833   \n",
       "\n",
       "   oldbalanceDest  newbalanceDest  isFraud  \n",
       "0        0.032779       -0.060909      1.0  \n",
       "1       -0.256064       -0.272165      1.0  \n",
       "2       -0.256064       -0.338913      1.0  \n",
       "3       -0.256064       -0.338913      1.0  \n",
       "4        0.023883       -0.024821      1.0  \n",
       "5        0.193456        0.108618     -1.0  \n",
       "6       -0.256064       -0.338913     -1.0  \n",
       "7       -0.256064       -0.338472      1.0  \n",
       "8       -0.256064       -0.338913      1.0  \n",
       "9        0.540864        0.467134     -1.0  "
      ]
     },
     "execution_count": 12,
     "metadata": {},
     "output_type": "execute_result"
    }
   ],
   "source": [
    "data.head(10)"
   ]
  },
  {
   "cell_type": "markdown",
   "id": "7ee48e6d-c9cb-4e01-afd8-f73cf2a2d4ca",
   "metadata": {},
   "source": [
    "**Split the Data:**"
   ]
  },
  {
   "cell_type": "markdown",
   "id": "90fa4f7c-82b6-40f2-b32b-0c08fb53d631",
   "metadata": {},
   "source": [
    "Define the feature set (X) and the target variable (y)"
   ]
  },
  {
   "cell_type": "code",
   "execution_count": 13,
   "id": "58f2dbd9-6ce5-4ca9-ab40-6fb01fbf4d48",
   "metadata": {},
   "outputs": [],
   "source": [
    "#X contains all the columns except the target variable (isFraud).\n",
    "#y contains only the target variable (isFraud).\n",
    "X = data.drop(columns=['isFraud'])\n",
    "y = data['isFraud']"
   ]
  },
  {
   "cell_type": "markdown",
   "id": "0224677a-f68d-4123-bf23-6c2248e7c4e6",
   "metadata": {},
   "source": [
    "Split the data into training, validation, and test sets"
   ]
  },
  {
   "cell_type": "code",
   "execution_count": 14,
   "id": "e43335fd-9769-4325-820e-3ab37a4953a4",
   "metadata": {},
   "outputs": [],
   "source": [
    "from sklearn.model_selection import train_test_split\n",
    "# Split the data into training (60%) and temporary sets (40%)\n",
    "X_train, X_temp, y_train, y_temp = train_test_split(X, y, test_size=0.4, random_state=42)\n",
    "# Split the temporary set into validation (20%) and test sets (20%)\n",
    "X_val, X_test, y_val, y_test = train_test_split(X_temp, y_temp, test_size=0.5, random_state=42)"
   ]
  },
  {
   "cell_type": "markdown",
   "id": "18287081-7cab-484d-87a4-5d4f9f1a80e7",
   "metadata": {},
   "source": [
    "Display split sizes"
   ]
  },
  {
   "cell_type": "code",
   "execution_count": 15,
   "id": "994fe893-452a-4903-b2dc-61967ab66f6e",
   "metadata": {},
   "outputs": [
    {
     "name": "stdout",
     "output_type": "stream",
     "text": [
      "\n",
      "Training set size: 9855\n",
      "Validation set size: 3285\n",
      "Test set size: 3286\n"
     ]
    }
   ],
   "source": [
    "# Display the sizes of the splits\n",
    "print(f\"\\nTraining set size: {len(X_train)}\")\n",
    "print(f\"Validation set size: {len(X_val)}\")\n",
    "print(f\"Test set size: {len(X_test)}\")"
   ]
  },
  {
   "cell_type": "code",
   "execution_count": 16,
   "id": "7982dcb7-5085-4185-b71b-02775b45f97d",
   "metadata": {},
   "outputs": [
    {
     "name": "stdout",
     "output_type": "stream",
     "text": [
      "\n",
      "Training Set (X_train, y_train):\n",
      "           step      type    amount  oldbalanceOrg  newbalanceOrig  \\\n",
      "6499   0.105915 -0.748453 -0.409745      -0.379995       -0.208330   \n",
      "7914   1.491134 -0.748453 -0.234810      -0.261254       -0.208330   \n",
      "9214  -0.111171 -0.748453 -0.047596      -0.154385       -0.208330   \n",
      "7964  -0.385114 -0.748453 -0.228660      -0.257744       -0.208330   \n",
      "16366 -0.855468  0.602917 -0.435071      -0.347148       -0.171638   \n",
      "...         ...       ...       ...            ...             ...   \n",
      "11284 -1.542908 -0.748453 -0.302579      -0.299940       -0.208330   \n",
      "11964 -0.359270  1.278603  0.074814      -0.084508       -0.208330   \n",
      "5390  -1.346497 -0.748453 -0.306229      -0.379995       -0.208330   \n",
      "860   -0.292077  1.278603 -0.073779      -0.377183       -0.208330   \n",
      "15795 -1.393015 -0.748453 -0.324758      -0.368671       -0.208330   \n",
      "\n",
      "       oldbalanceDest  newbalanceDest  \n",
      "6499        -0.039800       -0.135380  \n",
      "7914        -0.177874       -0.167276  \n",
      "9214        -0.232441       -0.097534  \n",
      "7964         0.427305        0.754293  \n",
      "16366       -0.256064       -0.338913  \n",
      "...               ...             ...  \n",
      "11284       -0.250028       -0.221791  \n",
      "11964       -0.256064       -0.338913  \n",
      "5390        -0.125755       -0.157930  \n",
      "860         -0.256064       -0.100026  \n",
      "15795       -0.256064       -0.207127  \n",
      "\n",
      "[9855 rows x 7 columns]\n",
      "6499    -1.0\n",
      "7914     1.0\n",
      "9214     1.0\n",
      "7964     1.0\n",
      "16366   -1.0\n",
      "        ... \n",
      "11284    1.0\n",
      "11964    1.0\n",
      "5390    -1.0\n",
      "860     -1.0\n",
      "15795   -1.0\n",
      "Name: isFraud, Length: 9855, dtype: float64\n",
      "\n",
      "Validation Set (X_val, y_val):\n",
      "           step      type    amount  oldbalanceOrg  newbalanceOrig  \\\n",
      "3658   0.689982 -0.748453 -0.388932      -0.349234        -0.20833   \n",
      "15490  1.832270 -0.748453 -0.415179      -0.364216        -0.20833   \n",
      "4073   0.752006 -0.748453 -0.188616      -0.234885        -0.20833   \n",
      "6087   1.201686 -0.748453  0.301227       0.044738        -0.20833   \n",
      "5899   0.002541  1.278603 -0.366309      -0.336320        -0.20833   \n",
      "...         ...       ...       ...            ...             ...   \n",
      "6307  -1.289641  1.278603  1.040710       0.466867        -0.20833   \n",
      "2239   0.105915  1.278603 -0.187342      -0.234157        -0.20833   \n",
      "11460 -0.622875  1.278603  0.326531      -0.367205        -0.20833   \n",
      "6201  -1.537740 -0.748453 -0.394546      -0.295757        -0.13516   \n",
      "9365   1.351579 -0.748453 -0.349194      -0.326549        -0.20833   \n",
      "\n",
      "       oldbalanceDest  newbalanceDest  \n",
      "3658        -0.241326       -0.299219  \n",
      "15490       -0.246252       -0.316605  \n",
      "4073        -0.247159       -0.204080  \n",
      "6087        -0.217174        0.066827  \n",
      "5899        -0.256064       -0.338913  \n",
      "...               ...             ...  \n",
      "6307        -0.256064       -0.338913  \n",
      "2239        -0.256064       -0.338913  \n",
      "11460       -0.220508        0.076600  \n",
      "6201        -0.256064       -0.252390  \n",
      "9365         0.589557        0.439072  \n",
      "\n",
      "[3285 rows x 7 columns]\n",
      "3658     1.0\n",
      "15490    1.0\n",
      "4073     1.0\n",
      "6087     1.0\n",
      "5899     1.0\n",
      "        ... \n",
      "6307     1.0\n",
      "2239     1.0\n",
      "11460   -1.0\n",
      "6201    -1.0\n",
      "9365     1.0\n",
      "Name: isFraud, Length: 3285, dtype: float64\n",
      "\n",
      "Test Set (X_test, y_test):\n",
      "           step      type    amount  oldbalanceOrg  newbalanceOrig  \\\n",
      "263    0.131759  0.602917 -0.441550      -0.379995       -0.208330   \n",
      "1303   0.126590 -0.748453  4.472716       2.426002       -0.208330   \n",
      "2478  -0.953674  1.278603 -0.402275      -0.368648       -0.208330   \n",
      "15053  0.281652  1.278603 -0.402524      -0.349039       -0.198063   \n",
      "3781  -1.362003  0.602917 -0.436584      -0.379995       -0.208330   \n",
      "...         ...       ...       ...            ...             ...   \n",
      "1097   0.038722 -0.748453  0.341299       0.067613       -0.208330   \n",
      "15425  0.493570  0.602917 -0.440205      -0.379995       -0.208330   \n",
      "9806  -1.393015  1.278603 -0.387749      -0.348558       -0.208330   \n",
      "12106 -0.731418  0.602917 -0.436584      -0.376579       -0.208330   \n",
      "10778  0.509076 -1.424139 -0.274881      -0.348627       -0.044084   \n",
      "\n",
      "       oldbalanceDest  newbalanceDest  \n",
      "263         -0.256064       -0.338913  \n",
      "1303        -0.176086        3.716431  \n",
      "2478        -0.192557       -0.263725  \n",
      "15053        1.109610        0.862060  \n",
      "3781        -0.256064       -0.338913  \n",
      "...               ...             ...  \n",
      "1097        -0.232707        0.073438  \n",
      "15425       -0.256064       -0.338913  \n",
      "9806        -0.256064       -0.338913  \n",
      "12106       -0.256064       -0.338913  \n",
      "10778       -0.256064       -0.338913  \n",
      "\n",
      "[3286 rows x 7 columns]\n",
      "263     -1.0\n",
      "1303     1.0\n",
      "2478    -1.0\n",
      "15053   -1.0\n",
      "3781    -1.0\n",
      "        ... \n",
      "1097     1.0\n",
      "15425   -1.0\n",
      "9806     1.0\n",
      "12106   -1.0\n",
      "10778   -1.0\n",
      "Name: isFraud, Length: 3286, dtype: float64\n"
     ]
    }
   ],
   "source": [
    "# Display the splits\n",
    "print(\"\\nTraining Set (X_train, y_train):\")\n",
    "print(X_train)\n",
    "print(y_train)\n",
    "\n",
    "print(\"\\nValidation Set (X_val, y_val):\")\n",
    "print(X_val)\n",
    "print(y_val)\n",
    "\n",
    "print(\"\\nTest Set (X_test, y_test):\")\n",
    "print(X_test)\n",
    "print(y_test)"
   ]
  },
  {
   "cell_type": "code",
   "execution_count": 17,
   "id": "055bcd49-d1d3-40b5-91ed-aacb7e1324f5",
   "metadata": {},
   "outputs": [
    {
     "name": "stdout",
     "output_type": "stream",
     "text": [
      "Shapes of the splits:\n",
      "X_train shape: (9855, 7)\n",
      "X_val shape: (3285, 7)\n",
      "X_test shape: (6571, 7)\n",
      "Y_train shape: (9855,)\n",
      "Y_val shape: (3285,)\n",
      "Y_test shape: (6571,)\n",
      "\n",
      "The size of Training set is:  (9855, 7)\n",
      "The size of Validation set is:  (3285, 7)\n",
      "The size of Test set is:  (6571, 7)\n"
     ]
    }
   ],
   "source": [
    "print(\"Shapes of the splits:\")\n",
    "print(\"X_train shape:\", X_train.shape)\n",
    "print(\"X_val shape:\", X_val.shape)\n",
    "print(\"X_test shape:\", X_temp.shape)\n",
    "print(\"Y_train shape:\", y_train.shape)\n",
    "print(\"Y_val shape:\", y_val.shape)\n",
    "print(\"Y_test shape:\", y_temp.shape)\n",
    "print()\n",
    "print(\"The size of Training set is: \",X_train.shape)\n",
    "print(\"The size of Validation set is: \",X_val.shape)\n",
    "print(\"The size of Test set is: \",X_temp.shape)"
   ]
  },
  {
   "cell_type": "markdown",
   "id": "1225121d-4ca8-4533-9daf-6033f3be6d54",
   "metadata": {},
   "source": [
    "**Fine-tune Hyperparameters**"
   ]
  },
  {
   "cell_type": "code",
   "execution_count": 18,
   "id": "bd78767f-ed49-47f3-968b-d031808888e6",
   "metadata": {},
   "outputs": [],
   "source": [
    "from sklearn.model_selection import train_test_split, GridSearchCV\n",
    "from sklearn.ensemble import RandomForestClassifier\n",
    "from sklearn.metrics import accuracy_score, classification_report\n",
    "# Hyperparameter tuning using GridSearchCV\n",
    "param_grid = {\n",
    "    'n_estimators': [100, 200, 300],\n",
    "    'max_depth': [10, 20, 30, None],\n",
    "    'min_samples_split': [2, 5, 10],\n",
    "    'min_samples_leaf': [1, 2, 4],\n",
    "    'bootstrap': [True, False]\n",
    "}"
   ]
  },
  {
   "cell_type": "code",
   "execution_count": 19,
   "id": "5feee621-382e-4285-8bbe-92f92038dbb6",
   "metadata": {},
   "outputs": [
    {
     "name": "stdout",
     "output_type": "stream",
     "text": [
      "Fitting 3 folds for each of 216 candidates, totalling 648 fits\n"
     ]
    },
    {
     "data": {
      "text/html": [
       "<style>#sk-container-id-1 {color: black;background-color: white;}#sk-container-id-1 pre{padding: 0;}#sk-container-id-1 div.sk-toggleable {background-color: white;}#sk-container-id-1 label.sk-toggleable__label {cursor: pointer;display: block;width: 100%;margin-bottom: 0;padding: 0.3em;box-sizing: border-box;text-align: center;}#sk-container-id-1 label.sk-toggleable__label-arrow:before {content: \"▸\";float: left;margin-right: 0.25em;color: #696969;}#sk-container-id-1 label.sk-toggleable__label-arrow:hover:before {color: black;}#sk-container-id-1 div.sk-estimator:hover label.sk-toggleable__label-arrow:before {color: black;}#sk-container-id-1 div.sk-toggleable__content {max-height: 0;max-width: 0;overflow: hidden;text-align: left;background-color: #f0f8ff;}#sk-container-id-1 div.sk-toggleable__content pre {margin: 0.2em;color: black;border-radius: 0.25em;background-color: #f0f8ff;}#sk-container-id-1 input.sk-toggleable__control:checked~div.sk-toggleable__content {max-height: 200px;max-width: 100%;overflow: auto;}#sk-container-id-1 input.sk-toggleable__control:checked~label.sk-toggleable__label-arrow:before {content: \"▾\";}#sk-container-id-1 div.sk-estimator input.sk-toggleable__control:checked~label.sk-toggleable__label {background-color: #d4ebff;}#sk-container-id-1 div.sk-label input.sk-toggleable__control:checked~label.sk-toggleable__label {background-color: #d4ebff;}#sk-container-id-1 input.sk-hidden--visually {border: 0;clip: rect(1px 1px 1px 1px);clip: rect(1px, 1px, 1px, 1px);height: 1px;margin: -1px;overflow: hidden;padding: 0;position: absolute;width: 1px;}#sk-container-id-1 div.sk-estimator {font-family: monospace;background-color: #f0f8ff;border: 1px dotted black;border-radius: 0.25em;box-sizing: border-box;margin-bottom: 0.5em;}#sk-container-id-1 div.sk-estimator:hover {background-color: #d4ebff;}#sk-container-id-1 div.sk-parallel-item::after {content: \"\";width: 100%;border-bottom: 1px solid gray;flex-grow: 1;}#sk-container-id-1 div.sk-label:hover label.sk-toggleable__label {background-color: #d4ebff;}#sk-container-id-1 div.sk-serial::before {content: \"\";position: absolute;border-left: 1px solid gray;box-sizing: border-box;top: 0;bottom: 0;left: 50%;z-index: 0;}#sk-container-id-1 div.sk-serial {display: flex;flex-direction: column;align-items: center;background-color: white;padding-right: 0.2em;padding-left: 0.2em;position: relative;}#sk-container-id-1 div.sk-item {position: relative;z-index: 1;}#sk-container-id-1 div.sk-parallel {display: flex;align-items: stretch;justify-content: center;background-color: white;position: relative;}#sk-container-id-1 div.sk-item::before, #sk-container-id-1 div.sk-parallel-item::before {content: \"\";position: absolute;border-left: 1px solid gray;box-sizing: border-box;top: 0;bottom: 0;left: 50%;z-index: -1;}#sk-container-id-1 div.sk-parallel-item {display: flex;flex-direction: column;z-index: 1;position: relative;background-color: white;}#sk-container-id-1 div.sk-parallel-item:first-child::after {align-self: flex-end;width: 50%;}#sk-container-id-1 div.sk-parallel-item:last-child::after {align-self: flex-start;width: 50%;}#sk-container-id-1 div.sk-parallel-item:only-child::after {width: 0;}#sk-container-id-1 div.sk-dashed-wrapped {border: 1px dashed gray;margin: 0 0.4em 0.5em 0.4em;box-sizing: border-box;padding-bottom: 0.4em;background-color: white;}#sk-container-id-1 div.sk-label label {font-family: monospace;font-weight: bold;display: inline-block;line-height: 1.2em;}#sk-container-id-1 div.sk-label-container {text-align: center;}#sk-container-id-1 div.sk-container {/* jupyter's `normalize.less` sets `[hidden] { display: none; }` but bootstrap.min.css set `[hidden] { display: none !important; }` so we also need the `!important` here to be able to override the default hidden behavior on the sphinx rendered scikit-learn.org. See: https://github.com/scikit-learn/scikit-learn/issues/21755 */display: inline-block !important;position: relative;}#sk-container-id-1 div.sk-text-repr-fallback {display: none;}</style><div id=\"sk-container-id-1\" class=\"sk-top-container\"><div class=\"sk-text-repr-fallback\"><pre>GridSearchCV(cv=3, estimator=RandomForestClassifier(random_state=42), n_jobs=-1,\n",
       "             param_grid={&#x27;bootstrap&#x27;: [True, False],\n",
       "                         &#x27;max_depth&#x27;: [10, 20, 30, None],\n",
       "                         &#x27;min_samples_leaf&#x27;: [1, 2, 4],\n",
       "                         &#x27;min_samples_split&#x27;: [2, 5, 10],\n",
       "                         &#x27;n_estimators&#x27;: [100, 200, 300]},\n",
       "             verbose=2)</pre><b>In a Jupyter environment, please rerun this cell to show the HTML representation or trust the notebook. <br />On GitHub, the HTML representation is unable to render, please try loading this page with nbviewer.org.</b></div><div class=\"sk-container\" hidden><div class=\"sk-item sk-dashed-wrapped\"><div class=\"sk-label-container\"><div class=\"sk-label sk-toggleable\"><input class=\"sk-toggleable__control sk-hidden--visually\" id=\"sk-estimator-id-1\" type=\"checkbox\" ><label for=\"sk-estimator-id-1\" class=\"sk-toggleable__label sk-toggleable__label-arrow\">GridSearchCV</label><div class=\"sk-toggleable__content\"><pre>GridSearchCV(cv=3, estimator=RandomForestClassifier(random_state=42), n_jobs=-1,\n",
       "             param_grid={&#x27;bootstrap&#x27;: [True, False],\n",
       "                         &#x27;max_depth&#x27;: [10, 20, 30, None],\n",
       "                         &#x27;min_samples_leaf&#x27;: [1, 2, 4],\n",
       "                         &#x27;min_samples_split&#x27;: [2, 5, 10],\n",
       "                         &#x27;n_estimators&#x27;: [100, 200, 300]},\n",
       "             verbose=2)</pre></div></div></div><div class=\"sk-parallel\"><div class=\"sk-parallel-item\"><div class=\"sk-item\"><div class=\"sk-label-container\"><div class=\"sk-label sk-toggleable\"><input class=\"sk-toggleable__control sk-hidden--visually\" id=\"sk-estimator-id-2\" type=\"checkbox\" ><label for=\"sk-estimator-id-2\" class=\"sk-toggleable__label sk-toggleable__label-arrow\">estimator: RandomForestClassifier</label><div class=\"sk-toggleable__content\"><pre>RandomForestClassifier(random_state=42)</pre></div></div></div><div class=\"sk-serial\"><div class=\"sk-item\"><div class=\"sk-estimator sk-toggleable\"><input class=\"sk-toggleable__control sk-hidden--visually\" id=\"sk-estimator-id-3\" type=\"checkbox\" ><label for=\"sk-estimator-id-3\" class=\"sk-toggleable__label sk-toggleable__label-arrow\">RandomForestClassifier</label><div class=\"sk-toggleable__content\"><pre>RandomForestClassifier(random_state=42)</pre></div></div></div></div></div></div></div></div></div></div>"
      ],
      "text/plain": [
       "GridSearchCV(cv=3, estimator=RandomForestClassifier(random_state=42), n_jobs=-1,\n",
       "             param_grid={'bootstrap': [True, False],\n",
       "                         'max_depth': [10, 20, 30, None],\n",
       "                         'min_samples_leaf': [1, 2, 4],\n",
       "                         'min_samples_split': [2, 5, 10],\n",
       "                         'n_estimators': [100, 200, 300]},\n",
       "             verbose=2)"
      ]
     },
     "execution_count": 19,
     "metadata": {},
     "output_type": "execute_result"
    }
   ],
   "source": [
    "grid_search = GridSearchCV(estimator=RandomForestClassifier(random_state=42), param_grid=param_grid,\n",
    "                           cv=3, n_jobs=-1, verbose=2)\n",
    "grid_search.fit(X_train, y_train)"
   ]
  },
  {
   "cell_type": "code",
   "execution_count": 20,
   "id": "98e74d81-63b6-449a-b28d-009a1c40da2d",
   "metadata": {},
   "outputs": [
    {
     "name": "stdout",
     "output_type": "stream",
     "text": [
      "\n",
      "Best hyperparameters found: {'bootstrap': False, 'max_depth': 20, 'min_samples_leaf': 1, 'min_samples_split': 5, 'n_estimators': 200}\n"
     ]
    }
   ],
   "source": [
    "# Best hyperparameters\n",
    "best_params = grid_search.best_params_\n",
    "print(f\"\\nBest hyperparameters found: {best_params}\")"
   ]
  },
  {
   "cell_type": "markdown",
   "id": "72dc0d25-5fe9-42c9-bd6e-81681cd6cb3f",
   "metadata": {},
   "source": [
    "**Train RandomForest Model**"
   ]
  },
  {
   "cell_type": "code",
   "execution_count": 21,
   "id": "537158a3-8f3c-45ea-9ceb-30f141f1c412",
   "metadata": {},
   "outputs": [
    {
     "data": {
      "text/html": [
       "<style>#sk-container-id-2 {color: black;background-color: white;}#sk-container-id-2 pre{padding: 0;}#sk-container-id-2 div.sk-toggleable {background-color: white;}#sk-container-id-2 label.sk-toggleable__label {cursor: pointer;display: block;width: 100%;margin-bottom: 0;padding: 0.3em;box-sizing: border-box;text-align: center;}#sk-container-id-2 label.sk-toggleable__label-arrow:before {content: \"▸\";float: left;margin-right: 0.25em;color: #696969;}#sk-container-id-2 label.sk-toggleable__label-arrow:hover:before {color: black;}#sk-container-id-2 div.sk-estimator:hover label.sk-toggleable__label-arrow:before {color: black;}#sk-container-id-2 div.sk-toggleable__content {max-height: 0;max-width: 0;overflow: hidden;text-align: left;background-color: #f0f8ff;}#sk-container-id-2 div.sk-toggleable__content pre {margin: 0.2em;color: black;border-radius: 0.25em;background-color: #f0f8ff;}#sk-container-id-2 input.sk-toggleable__control:checked~div.sk-toggleable__content {max-height: 200px;max-width: 100%;overflow: auto;}#sk-container-id-2 input.sk-toggleable__control:checked~label.sk-toggleable__label-arrow:before {content: \"▾\";}#sk-container-id-2 div.sk-estimator input.sk-toggleable__control:checked~label.sk-toggleable__label {background-color: #d4ebff;}#sk-container-id-2 div.sk-label input.sk-toggleable__control:checked~label.sk-toggleable__label {background-color: #d4ebff;}#sk-container-id-2 input.sk-hidden--visually {border: 0;clip: rect(1px 1px 1px 1px);clip: rect(1px, 1px, 1px, 1px);height: 1px;margin: -1px;overflow: hidden;padding: 0;position: absolute;width: 1px;}#sk-container-id-2 div.sk-estimator {font-family: monospace;background-color: #f0f8ff;border: 1px dotted black;border-radius: 0.25em;box-sizing: border-box;margin-bottom: 0.5em;}#sk-container-id-2 div.sk-estimator:hover {background-color: #d4ebff;}#sk-container-id-2 div.sk-parallel-item::after {content: \"\";width: 100%;border-bottom: 1px solid gray;flex-grow: 1;}#sk-container-id-2 div.sk-label:hover label.sk-toggleable__label {background-color: #d4ebff;}#sk-container-id-2 div.sk-serial::before {content: \"\";position: absolute;border-left: 1px solid gray;box-sizing: border-box;top: 0;bottom: 0;left: 50%;z-index: 0;}#sk-container-id-2 div.sk-serial {display: flex;flex-direction: column;align-items: center;background-color: white;padding-right: 0.2em;padding-left: 0.2em;position: relative;}#sk-container-id-2 div.sk-item {position: relative;z-index: 1;}#sk-container-id-2 div.sk-parallel {display: flex;align-items: stretch;justify-content: center;background-color: white;position: relative;}#sk-container-id-2 div.sk-item::before, #sk-container-id-2 div.sk-parallel-item::before {content: \"\";position: absolute;border-left: 1px solid gray;box-sizing: border-box;top: 0;bottom: 0;left: 50%;z-index: -1;}#sk-container-id-2 div.sk-parallel-item {display: flex;flex-direction: column;z-index: 1;position: relative;background-color: white;}#sk-container-id-2 div.sk-parallel-item:first-child::after {align-self: flex-end;width: 50%;}#sk-container-id-2 div.sk-parallel-item:last-child::after {align-self: flex-start;width: 50%;}#sk-container-id-2 div.sk-parallel-item:only-child::after {width: 0;}#sk-container-id-2 div.sk-dashed-wrapped {border: 1px dashed gray;margin: 0 0.4em 0.5em 0.4em;box-sizing: border-box;padding-bottom: 0.4em;background-color: white;}#sk-container-id-2 div.sk-label label {font-family: monospace;font-weight: bold;display: inline-block;line-height: 1.2em;}#sk-container-id-2 div.sk-label-container {text-align: center;}#sk-container-id-2 div.sk-container {/* jupyter's `normalize.less` sets `[hidden] { display: none; }` but bootstrap.min.css set `[hidden] { display: none !important; }` so we also need the `!important` here to be able to override the default hidden behavior on the sphinx rendered scikit-learn.org. See: https://github.com/scikit-learn/scikit-learn/issues/21755 */display: inline-block !important;position: relative;}#sk-container-id-2 div.sk-text-repr-fallback {display: none;}</style><div id=\"sk-container-id-2\" class=\"sk-top-container\"><div class=\"sk-text-repr-fallback\"><pre>RandomForestClassifier(bootstrap=False, max_depth=20, min_samples_split=5,\n",
       "                       n_estimators=200, random_state=42)</pre><b>In a Jupyter environment, please rerun this cell to show the HTML representation or trust the notebook. <br />On GitHub, the HTML representation is unable to render, please try loading this page with nbviewer.org.</b></div><div class=\"sk-container\" hidden><div class=\"sk-item\"><div class=\"sk-estimator sk-toggleable\"><input class=\"sk-toggleable__control sk-hidden--visually\" id=\"sk-estimator-id-4\" type=\"checkbox\" checked><label for=\"sk-estimator-id-4\" class=\"sk-toggleable__label sk-toggleable__label-arrow\">RandomForestClassifier</label><div class=\"sk-toggleable__content\"><pre>RandomForestClassifier(bootstrap=False, max_depth=20, min_samples_split=5,\n",
       "                       n_estimators=200, random_state=42)</pre></div></div></div></div></div>"
      ],
      "text/plain": [
       "RandomForestClassifier(bootstrap=False, max_depth=20, min_samples_split=5,\n",
       "                       n_estimators=200, random_state=42)"
      ]
     },
     "execution_count": 21,
     "metadata": {},
     "output_type": "execute_result"
    }
   ],
   "source": [
    "# Train the Random Forest model with the best hyperparameters\n",
    "best_model = RandomForestClassifier(**best_params, random_state=42)\n",
    "best_model.fit(X_train, y_train)"
   ]
  },
  {
   "cell_type": "markdown",
   "id": "0787460b-375a-4d4a-9dfe-e599200de663",
   "metadata": {},
   "source": [
    "**Validate the model**"
   ]
  },
  {
   "cell_type": "code",
   "execution_count": 22,
   "id": "3ff0e899-baa9-4661-bc81-56ce5d25c0bf",
   "metadata": {},
   "outputs": [],
   "source": [
    "# Make predictions on the validation set\n",
    "y_val_pred = best_model.predict(X_val)"
   ]
  },
  {
   "cell_type": "markdown",
   "id": "8b4251e5-ada9-4343-8a5a-e55fc5496184",
   "metadata": {},
   "source": [
    "**Validation model accuracy**"
   ]
  },
  {
   "cell_type": "code",
   "execution_count": 23,
   "id": "b89044f7-fc35-4f75-9da3-7045508f4de7",
   "metadata": {},
   "outputs": [
    {
     "name": "stdout",
     "output_type": "stream",
     "text": [
      "Test Accuracy: 0.99\n",
      "Test Classification Report:\n",
      "                precision    recall  f1-score   support\n",
      "\n",
      "Not Fraud (-1)       0.99      0.99      0.99      1609\n",
      "     Fraud (1)       0.99      1.00      0.99      1676\n",
      "\n",
      "      accuracy                           0.99      3285\n",
      "     macro avg       0.99      0.99      0.99      3285\n",
      "  weighted avg       0.99      0.99      0.99      3285\n",
      "\n"
     ]
    }
   ],
   "source": [
    "# Evaluate the model on the validation set\n",
    "accuracy = accuracy_score(y_val, y_val_pred)\n",
    "report = classification_report(y_val, y_val_pred, target_names=['Not Fraud (-1)', 'Fraud (1)'])\n",
    "print(f'Test Accuracy: {accuracy:.2f}')\n",
    "print('Test Classification Report:')\n",
    "print(report)"
   ]
  },
  {
   "cell_type": "code",
   "execution_count": 24,
   "id": "03e83790-26bc-4a36-92ad-393b8e2efd65",
   "metadata": {},
   "outputs": [
    {
     "name": "stdout",
     "output_type": "stream",
     "text": [
      "\n",
      "Training Set (X_train, y_train):\n",
      "           step      type    amount  oldbalanceOrg  newbalanceOrig  \\\n",
      "6499   0.105915 -0.748453 -0.409745      -0.379995       -0.208330   \n",
      "7914   1.491134 -0.748453 -0.234810      -0.261254       -0.208330   \n",
      "9214  -0.111171 -0.748453 -0.047596      -0.154385       -0.208330   \n",
      "7964  -0.385114 -0.748453 -0.228660      -0.257744       -0.208330   \n",
      "16366 -0.855468  0.602917 -0.435071      -0.347148       -0.171638   \n",
      "...         ...       ...       ...            ...             ...   \n",
      "11284 -1.542908 -0.748453 -0.302579      -0.299940       -0.208330   \n",
      "11964 -0.359270  1.278603  0.074814      -0.084508       -0.208330   \n",
      "5390  -1.346497 -0.748453 -0.306229      -0.379995       -0.208330   \n",
      "860   -0.292077  1.278603 -0.073779      -0.377183       -0.208330   \n",
      "15795 -1.393015 -0.748453 -0.324758      -0.368671       -0.208330   \n",
      "\n",
      "       oldbalanceDest  newbalanceDest  \n",
      "6499        -0.039800       -0.135380  \n",
      "7914        -0.177874       -0.167276  \n",
      "9214        -0.232441       -0.097534  \n",
      "7964         0.427305        0.754293  \n",
      "16366       -0.256064       -0.338913  \n",
      "...               ...             ...  \n",
      "11284       -0.250028       -0.221791  \n",
      "11964       -0.256064       -0.338913  \n",
      "5390        -0.125755       -0.157930  \n",
      "860         -0.256064       -0.100026  \n",
      "15795       -0.256064       -0.207127  \n",
      "\n",
      "[9855 rows x 7 columns]\n",
      "6499    -1.0\n",
      "7914     1.0\n",
      "9214     1.0\n",
      "7964     1.0\n",
      "16366   -1.0\n",
      "        ... \n",
      "11284    1.0\n",
      "11964    1.0\n",
      "5390    -1.0\n",
      "860     -1.0\n",
      "15795   -1.0\n",
      "Name: isFraud, Length: 9855, dtype: float64\n",
      "\n",
      "Validation Set (X_val, y_val):\n",
      "           step      type    amount  oldbalanceOrg  newbalanceOrig  \\\n",
      "3658   0.689982 -0.748453 -0.388932      -0.349234        -0.20833   \n",
      "15490  1.832270 -0.748453 -0.415179      -0.364216        -0.20833   \n",
      "4073   0.752006 -0.748453 -0.188616      -0.234885        -0.20833   \n",
      "6087   1.201686 -0.748453  0.301227       0.044738        -0.20833   \n",
      "5899   0.002541  1.278603 -0.366309      -0.336320        -0.20833   \n",
      "...         ...       ...       ...            ...             ...   \n",
      "6307  -1.289641  1.278603  1.040710       0.466867        -0.20833   \n",
      "2239   0.105915  1.278603 -0.187342      -0.234157        -0.20833   \n",
      "11460 -0.622875  1.278603  0.326531      -0.367205        -0.20833   \n",
      "6201  -1.537740 -0.748453 -0.394546      -0.295757        -0.13516   \n",
      "9365   1.351579 -0.748453 -0.349194      -0.326549        -0.20833   \n",
      "\n",
      "       oldbalanceDest  newbalanceDest  \n",
      "3658        -0.241326       -0.299219  \n",
      "15490       -0.246252       -0.316605  \n",
      "4073        -0.247159       -0.204080  \n",
      "6087        -0.217174        0.066827  \n",
      "5899        -0.256064       -0.338913  \n",
      "...               ...             ...  \n",
      "6307        -0.256064       -0.338913  \n",
      "2239        -0.256064       -0.338913  \n",
      "11460       -0.220508        0.076600  \n",
      "6201        -0.256064       -0.252390  \n",
      "9365         0.589557        0.439072  \n",
      "\n",
      "[3285 rows x 7 columns]\n",
      "3658     1.0\n",
      "15490    1.0\n",
      "4073     1.0\n",
      "6087     1.0\n",
      "5899     1.0\n",
      "        ... \n",
      "6307     1.0\n",
      "2239     1.0\n",
      "11460   -1.0\n",
      "6201    -1.0\n",
      "9365     1.0\n",
      "Name: isFraud, Length: 3285, dtype: float64\n",
      "\n",
      "Test Set (X_test, y_test):\n",
      "           step      type    amount  oldbalanceOrg  newbalanceOrig  \\\n",
      "263    0.131759  0.602917 -0.441550      -0.379995       -0.208330   \n",
      "1303   0.126590 -0.748453  4.472716       2.426002       -0.208330   \n",
      "2478  -0.953674  1.278603 -0.402275      -0.368648       -0.208330   \n",
      "15053  0.281652  1.278603 -0.402524      -0.349039       -0.198063   \n",
      "3781  -1.362003  0.602917 -0.436584      -0.379995       -0.208330   \n",
      "...         ...       ...       ...            ...             ...   \n",
      "1097   0.038722 -0.748453  0.341299       0.067613       -0.208330   \n",
      "15425  0.493570  0.602917 -0.440205      -0.379995       -0.208330   \n",
      "9806  -1.393015  1.278603 -0.387749      -0.348558       -0.208330   \n",
      "12106 -0.731418  0.602917 -0.436584      -0.376579       -0.208330   \n",
      "10778  0.509076 -1.424139 -0.274881      -0.348627       -0.044084   \n",
      "\n",
      "       oldbalanceDest  newbalanceDest  \n",
      "263         -0.256064       -0.338913  \n",
      "1303        -0.176086        3.716431  \n",
      "2478        -0.192557       -0.263725  \n",
      "15053        1.109610        0.862060  \n",
      "3781        -0.256064       -0.338913  \n",
      "...               ...             ...  \n",
      "1097        -0.232707        0.073438  \n",
      "15425       -0.256064       -0.338913  \n",
      "9806        -0.256064       -0.338913  \n",
      "12106       -0.256064       -0.338913  \n",
      "10778       -0.256064       -0.338913  \n",
      "\n",
      "[3286 rows x 7 columns]\n",
      "263     -1.0\n",
      "1303     1.0\n",
      "2478    -1.0\n",
      "15053   -1.0\n",
      "3781    -1.0\n",
      "        ... \n",
      "1097     1.0\n",
      "15425   -1.0\n",
      "9806     1.0\n",
      "12106   -1.0\n",
      "10778   -1.0\n",
      "Name: isFraud, Length: 3286, dtype: float64\n",
      "\n",
      "Validation Set Predictions (y_val_pred):\n",
      "[ 1.  1.  1. ... -1. -1.  1.]\n",
      "\n",
      "Model Performance on Validation Set:\n",
      "Accuracy: 0.99\n",
      "                precision    recall  f1-score   support\n",
      "\n",
      "Not Fraud (-1)       0.99      0.99      0.99      1609\n",
      "     Fraud (1)       0.99      1.00      0.99      1676\n",
      "\n",
      "      accuracy                           0.99      3285\n",
      "     macro avg       0.99      0.99      0.99      3285\n",
      "  weighted avg       0.99      0.99      0.99      3285\n",
      "\n"
     ]
    }
   ],
   "source": [
    "# Display the splits and model performance\n",
    "print(\"\\nTraining Set (X_train, y_train):\")\n",
    "print(X_train)\n",
    "print(y_train)\n",
    "\n",
    "print(\"\\nValidation Set (X_val, y_val):\")\n",
    "print(X_val)\n",
    "print(y_val)\n",
    "\n",
    "print(\"\\nTest Set (X_test, y_test):\")\n",
    "print(X_test)\n",
    "print(y_test)\n",
    "\n",
    "print(\"\\nValidation Set Predictions (y_val_pred):\")\n",
    "print(y_val_pred)\n",
    "\n",
    "print(\"\\nModel Performance on Validation Set:\")\n",
    "print(f\"Accuracy: {accuracy:.2f}\")\n",
    "print(report)"
   ]
  },
  {
   "cell_type": "markdown",
   "id": "60bff5d0-6094-4920-b7f9-c0d52f0510bc",
   "metadata": {},
   "source": [
    "**Test model accuracy**"
   ]
  },
  {
   "cell_type": "code",
   "execution_count": 25,
   "id": "65abf57f-dad3-44fd-adb4-36082c386beb",
   "metadata": {},
   "outputs": [
    {
     "name": "stdout",
     "output_type": "stream",
     "text": [
      "The Accuracy of the model: 0.99\n",
      "\n",
      "Classification Report:\n",
      "              precision    recall  f1-score   support\n",
      "\n",
      "        -1.0       1.00      0.99      0.99      1610\n",
      "         1.0       0.99      1.00      0.99      1676\n",
      "\n",
      "    accuracy                           0.99      3286\n",
      "   macro avg       0.99      0.99      0.99      3286\n",
      "weighted avg       0.99      0.99      0.99      3286\n",
      "\n"
     ]
    }
   ],
   "source": [
    "from sklearn.metrics import accuracy_score, classification_report\n",
    "\n",
    "# Make predictions on the test set\n",
    "y_pred = best_model.predict(X_test)\n",
    "\n",
    "# Evaluate the model\n",
    "accuracy = accuracy_score(y_test, y_pred)\n",
    "print(f'The Accuracy of the model: {accuracy:.2f}')\n",
    "print()\n",
    "# Classification report\n",
    "print(\"Classification Report:\")\n",
    "print(classification_report(y_test,y_pred))"
   ]
  },
  {
   "cell_type": "markdown",
   "id": "2ec1ff89-4600-4206-ab79-a3c1a3d210ec",
   "metadata": {},
   "source": [
    "**Confusion Matrix**"
   ]
  },
  {
   "cell_type": "code",
   "execution_count": 26,
   "id": "23e012ba-33ba-4aeb-b218-77c37c8ab0a9",
   "metadata": {},
   "outputs": [
    {
     "data": {
      "text/plain": [
       "array([[1587,   23],\n",
       "       [   7, 1669]], dtype=int64)"
      ]
     },
     "execution_count": 26,
     "metadata": {},
     "output_type": "execute_result"
    }
   ],
   "source": [
    "from sklearn.metrics import confusion_matrix\n",
    "confusion_matrix(y_test,y_pred)"
   ]
  },
  {
   "cell_type": "code",
   "execution_count": 27,
   "id": "0f053f33-634a-4a9b-b583-bdca897fd553",
   "metadata": {},
   "outputs": [
    {
     "data": {
      "text/plain": [
       "<sklearn.metrics._plot.confusion_matrix.ConfusionMatrixDisplay at 0x1f258ec0f10>"
      ]
     },
     "execution_count": 27,
     "metadata": {},
     "output_type": "execute_result"
    },
    {
     "data": {
      "image/png": "[encoded data removed]",
      "text/plain": [
       "<Figure size 640x480 with 2 Axes>"
      ]
     },
     "metadata": {},
     "output_type": "display_data"
    }
   ],
   "source": [
    "from sklearn.metrics import confusion_matrix, ConfusionMatrixDisplay\n",
    "\n",
    "# y_pred = model.predict(X_test)\n",
    "cm = confusion_matrix(y_test, y_pred)\n",
    "disp = ConfusionMatrixDisplay(confusion_matrix=cm)\n",
    "disp.plot()\n"
   ]
  },
  {
   "cell_type": "markdown",
   "id": "7d9f5020-7b50-4ae6-bc5b-1501a493bf85",
   "metadata": {},
   "source": [
    "**Evaluate on test set**\n",
    "\n",
    "**ROC Curve**"
   ]
  },
  {
   "cell_type": "code",
   "execution_count": 29,
   "id": "498a0cae-1e44-45cf-81c5-219d1f20144d",
   "metadata": {},
   "outputs": [
    {
     "name": "stdout",
     "output_type": "stream",
     "text": [
      "\n",
      "ROC AUC Score: 1.00\n"
     ]
    },
    {
     "data": {
      "image/png": "[encoded data removed]",
      "text/plain": [
       "<Figure size 640x480 with 1 Axes>"
      ]
     },
     "metadata": {},
     "output_type": "display_data"
    }
   ],
   "source": [
    "from sklearn.metrics import confusion_matrix, roc_auc_score, roc_curve\n",
    "import matplotlib.pyplot as plt\n",
    "# ROC AUC Score\n",
    "y_test_prob = best_model.predict_proba(X_test)[:, 1]\n",
    "roc_auc = roc_auc_score(y_test, y_test_prob)\n",
    "print(f\"\\nROC AUC Score: {roc_auc:.2f}\")\n",
    "\n",
    "# Plot ROC Curve\n",
    "fpr, tpr, _ = roc_curve(y_test, y_test_prob)\n",
    "plt.figure()\n",
    "plt.plot(fpr, tpr, label='ROC curve (area = %0.2f)' % roc_auc)\n",
    "plt.plot([0, 1], [0, 1], 'k--')\n",
    "plt.xlim([0.0, 1.0])\n",
    "plt.ylim([0.0, 1.05])\n",
    "plt.xlabel('False Positive Rate')\n",
    "plt.ylabel('True Positive Rate')\n",
    "plt.title('Receiver Operating Characteristic (ROC) Curve')\n",
    "plt.legend(loc=\"lower right\")\n",
    "plt.show()"
   ]
  },
  {
   "cell_type": "markdown",
   "id": "61016323-a037-4338-a61d-0420ed800296",
   "metadata": {},
   "source": [
    "**Feature Importance Plot**"
   ]
  },
  {
   "cell_type": "code",
   "execution_count": 30,
   "id": "c249f5ce-bd02-4228-9576-a934f2b14ca6",
   "metadata": {},
   "outputs": [
    {
     "data": {
      "image/png": "[encoded data removed]",
      "text/plain": [
       "<Figure size 600x600 with 1 Axes>"
      ]
     },
     "metadata": {},
     "output_type": "display_data"
    }
   ],
   "source": [
    "import matplotlib.pyplot as plt\n",
    "feature_names=data.columns\n",
    "feature_importances=best_model.feature_importances_\n",
    "indices=feature_importances.argsort()[::-1]\n",
    "plt.figure(figsize=(6, 6))\n",
    "plt.bar(range(X.shape[1]), feature_importances[indices], align='center')\n",
    "plt.xticks(range(X.shape[1]), [feature_names[i] for i in indices], rotation=90)\n",
    "plt.xlabel('Feature')\n",
    "plt.ylabel('Importance')\n",
    "plt.title('Feature Importance Plot')\n",
    "plt.show()"
   ]
  },
  {
   "cell_type": "markdown",
   "id": "61caadb3-ae3a-44cc-9848-40f0b0521103",
   "metadata": {},
   "source": [
    "**Cross-Validation**"
   ]
  },
  {
   "cell_type": "code",
   "execution_count": 31,
   "id": "4da95677-d505-46e7-bc17-7a02f2274666",
   "metadata": {},
   "outputs": [
    {
     "name": "stdout",
     "output_type": "stream",
     "text": [
      "\n",
      "Cross-Validation Accuracy Scores: [0.99482654 0.99391172 0.99025875 0.99299848 0.99238965]\n",
      "Mean CV Accuracy: 0.99\n"
     ]
    }
   ],
   "source": [
    "#To ensure the robustness of your model, use cross-validation.\n",
    "from sklearn.model_selection import cross_val_score\n",
    "\n",
    "# Perform cross-validation\n",
    "cv_scores = cross_val_score(best_model, X, y, cv=5, scoring='accuracy')\n",
    "print(f\"\\nCross-Validation Accuracy Scores: {cv_scores}\")\n",
    "print(f\"Mean CV Accuracy: {cv_scores.mean():.2f}\")"
   ]
  },
  {
   "cell_type": "markdown",
   "id": "3ded6eab-9ebc-4599-a815-acea0a183f64",
   "metadata": {},
   "source": [
    "**Save the best model**"
   ]
  },
  {
   "cell_type": "code",
   "execution_count": 32,
   "id": "73247ac1-b4f4-4f1a-8749-2341fc67535c",
   "metadata": {},
   "outputs": [
    {
     "name": "stdout",
     "output_type": "stream",
     "text": [
      "Model saved successfully.\n"
     ]
    }
   ],
   "source": [
    "import joblib\n",
    "\n",
    "joblib.dump(best_model, 'rf_model.pkl')\n",
    "print(\"Model saved successfully.\")"
   ]
  },
  {
   "cell_type": "code",
   "execution_count": 33,
   "id": "a3659044-063a-4dab-8447-fb33b04b3d78",
   "metadata": {},
   "outputs": [
    {
     "name": "stdout",
     "output_type": "stream",
     "text": [
      "Model loaded successfully.\n"
     ]
    }
   ],
   "source": [
    "#To Load the model from the file\n",
    "model = joblib.load('rf_model.pkl')\n",
    "print(\"Model loaded successfully.\")"
   ]
  }
 ],
 "metadata": {
  "kernelspec": {
   "display_name": "Python 3 (ipykernel)",
   "language": "python",
   "name": "python3"
  },
  "language_info": {
   "codemirror_mode": {
    "name": "ipython",
    "version": 3
   },
   "file_extension": ".py",
   "mimetype": "text/x-python",
   "name": "python",
   "nbconvert_exporter": "python",
   "pygments_lexer": "ipython3",
   "version": "3.11.7"
  }
 },
 "nbformat": 4,
 "nbformat_minor": 5
}
